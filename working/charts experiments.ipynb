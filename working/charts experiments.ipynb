{
 "cells": [
  {
   "cell_type": "code",
   "execution_count": 1,
   "metadata": {
    "collapsed": false
   },
   "outputs": [],
   "source": [
    "from io import StringIO\n",
    "import pandas as pd\n",
    "\n",
    "from bokeh.browserlib import view\n",
    "from bokeh.charts import Line as LineChart\n",
    "from bokeh.document import Document\n",
    "from bokeh.io import output_file, save\n",
    "from bokeh.models import (\n",
    "    Plot, Line, ColumnDataSource, \n",
    "    LinearAxis, DatetimeAxis, DataRange1d, \n",
    "    BasicTicker\n",
    ")\n",
    "from bokeh.palettes import Spectral3\n",
    "\n",
    "doc = Document()\n",
    "filename = 'charts experiments.html'\n",
    "output_file(filename, title='Charts', mode='relative-dev')"
   ]
  },
  {
   "cell_type": "code",
   "execution_count": 2,
   "metadata": {
    "collapsed": false
   },
   "outputs": [
    {
     "name": "stdout",
     "output_type": "stream",
     "text": [
      "activity      object\n",
      "timespent    float64\n",
      "dtype: object\n"
     ]
    },
    {
     "data": {
      "text/html": [
       "<div>\n",
       "<table border=\"1\" class=\"dataframe\">\n",
       "  <thead>\n",
       "    <tr style=\"text-align: right;\">\n",
       "      <th></th>\n",
       "      <th>activity</th>\n",
       "      <th>timespent</th>\n",
       "    </tr>\n",
       "    <tr>\n",
       "      <th>timestamp</th>\n",
       "      <th></th>\n",
       "      <th></th>\n",
       "    </tr>\n",
       "  </thead>\n",
       "  <tbody>\n",
       "    <tr>\n",
       "      <th>2015-06-25 06:42:00</th>\n",
       "      <td>ponies</td>\n",
       "      <td>NaN</td>\n",
       "    </tr>\n",
       "    <tr>\n",
       "      <th>2015-06-25 06:42:00</th>\n",
       "      <td>unicorns</td>\n",
       "      <td>NaN</td>\n",
       "    </tr>\n",
       "    <tr>\n",
       "      <th>2015-06-25 06:42:00</th>\n",
       "      <td>hard at it</td>\n",
       "      <td>NaN</td>\n",
       "    </tr>\n",
       "    <tr>\n",
       "      <th>2015-06-25 06:42:00</th>\n",
       "      <td>ponies</td>\n",
       "      <td>0</td>\n",
       "    </tr>\n",
       "    <tr>\n",
       "      <th>2015-06-25 06:42:00</th>\n",
       "      <td>unicorns</td>\n",
       "      <td>0</td>\n",
       "    </tr>\n",
       "  </tbody>\n",
       "</table>\n",
       "</div>"
      ],
      "text/plain": [
       "                       activity  timespent\n",
       "timestamp                                 \n",
       "2015-06-25 06:42:00      ponies        NaN\n",
       "2015-06-25 06:42:00    unicorns        NaN\n",
       "2015-06-25 06:42:00  hard at it        NaN\n",
       "2015-06-25 06:42:00      ponies          0\n",
       "2015-06-25 06:42:00    unicorns          0"
      ]
     },
     "execution_count": 2,
     "metadata": {},
     "output_type": "execute_result"
    }
   ],
   "source": [
    "data = \"\"\"\n",
    "timestamp, activity, timespent\n",
    "2015-06-25 06:42, ponies, NaN\n",
    "2015-06-25 06:42, unicorns, NaN\n",
    "2015-06-25 06:42, hard at it, NaN\n",
    "2015-06-25 06:42, ponies, 0\n",
    "2015-06-25 06:42, unicorns, 0\n",
    "2015-06-25 06:42, hard at it, 0\n",
    "2015-06-25 07:42, ponies, 0.5\n",
    "2015-06-25 07:42, unicorns, 1\n",
    "2015-06-25 07:42, hard at it, 0\n",
    "2015-06-25 12:20, ponies, 0.9\n",
    "2015-06-25 12:20, unicorns, 3\n",
    "2015-06-25 12:20, hard at it, 3\n",
    "2015-06-25 18:22, ponies, 1\n",
    "2015-06-25 18:22, unicorns, 3\n",
    "2015-06-25 18:22, hard at it, 3.2\n",
    "\n",
    "2015-06-26 06:42, ponies, NaN\n",
    "2015-06-26 06:42, unicorns, NaN\n",
    "2015-06-26 06:42, hard at it, NaN\n",
    "2015-06-26 06:42, ponies, 0\n",
    "2015-06-26 06:42, unicorns, 0\n",
    "2015-06-26 06:42, hard at it, 0\n",
    "2015-06-26 07:42, ponies, 0.5\n",
    "2015-06-26 07:42, unicorns, 1\n",
    "2015-06-26 07:42, hard at it, 0\n",
    "2015-06-26 12:20, ponies, 0.9\n",
    "2015-06-26 12:20, unicorns, 3\n",
    "2015-06-26 12:20, hard at it, 3\n",
    "2015-06-26 18:22, ponies, 1\n",
    "2015-06-26 18:22, unicorns, 3\n",
    "2015-06-26 18:22, hard at it, 3.2\n",
    "\n",
    "2015-06-27 06:42, ponies, NaN\n",
    "2015-06-27 06:42, unicorns, NaN\n",
    "2015-06-27 06:42, hard at it, NaN\n",
    "2015-06-27 06:42, ponies, 0\n",
    "2015-06-27 06:42, unicorns, 0\n",
    "2015-06-27 06:42, hard at it, 0\n",
    "2015-06-27 07:42, ponies, 0.5\n",
    "2015-06-27 07:42, unicorns, 1\n",
    "2015-06-27 07:42, hard at it, 0\n",
    "2015-06-27 12:20, ponies, 0.9\n",
    "2015-06-27 12:20, unicorns, 3\n",
    "2015-06-27 12:20, hard at it, 3\n",
    "2015-06-27 20:22, ponies, 1\n",
    "2015-06-27 20:22, unicorns, 3\n",
    "2015-06-27 20:22, hard at it, 3.2\n",
    "\n",
    "2015-06-28 06:42, ponies, NaN\n",
    "2015-06-28 06:42, unicorns, NaN\n",
    "2015-06-28 06:42, hard at it, NaN\n",
    "2015-06-28 06:42, ponies, 0\n",
    "2015-06-28 06:42, unicorns, 0\n",
    "2015-06-28 06:42, hard at it, 0\n",
    "2015-06-28 07:42, ponies, 0.5\n",
    "2015-06-28 07:42, unicorns, 1\n",
    "2015-06-28 07:42, hard at it, 0\n",
    "2015-06-28 12:20, ponies, 0.9\n",
    "2015-06-28 12:20, unicorns, 3\n",
    "2015-06-28 12:20, hard at it, 3\n",
    "2015-06-28 18:22, ponies, 1\n",
    "2015-06-28 18:22, unicorns, 3\n",
    "2015-06-28 18:22, hard at it, 3.2\n",
    "\n",
    "2015-06-29 06:42, ponies, NaN\n",
    "2015-06-29 06:42, unicorns, NaN\n",
    "2015-06-29 06:42, hard at it, NaN\n",
    "2015-06-29 06:42, ponies, 0\n",
    "2015-06-29 06:42, unicorns, 0\n",
    "2015-06-29 06:42, hard at it, 0\n",
    "2015-06-29 07:42, ponies, 0.5\n",
    "2015-06-29 07:42, unicorns, 1\n",
    "2015-06-29 07:42, hard at it, 0\n",
    "2015-06-29 12:20, ponies, 0.9\n",
    "2015-06-29 12:20, unicorns, 3\n",
    "2015-06-29 12:20, hard at it, 3\n",
    "2015-06-29 18:22, ponies, 1\n",
    "2015-06-29 18:22, unicorns, 3\n",
    "2015-06-29 18:22, hard at it, 3.2\n",
    "\"\"\"\n",
    "df = pd.read_csv(StringIO(data), parse_dates=True, skipinitialspace=True, index_col='timestamp')\n",
    "print(df.dtypes)\n",
    "df.head()"
   ]
  },
  {
   "cell_type": "code",
   "execution_count": 3,
   "metadata": {
    "collapsed": true
   },
   "outputs": [],
   "source": [
    "ponies_df = df[df.activity == 'ponies']\n",
    "unicorns_df = df[df.activity == 'unicorns']\n",
    "hard_df = df[df.activity == 'hard at it']\n",
    "p = ColumnDataSource(ponies_df)\n",
    "u = ColumnDataSource(unicorns_df)\n",
    "h = ColumnDataSource(hard_df)"
   ]
  },
  {
   "cell_type": "code",
   "execution_count": 4,
   "metadata": {
    "collapsed": false
   },
   "outputs": [],
   "source": [
    "plot = Plot(\n",
    "    x_range=DataRange1d(), \n",
    "    y_range=DataRange1d(), \n",
    "    background_fill='black', \n",
    "    border_fill='black',\n",
    "    toolbar_location=None,\n",
    "    outline_line_color=None,\n",
    "    plot_width=900,\n",
    "    plot_height=300\n",
    ")\n",
    "ticker = BasicTicker(min_interval=1)\n",
    "axis_properties = dict(\n",
    "    major_label_text_color='white',\n",
    "    ticker=ticker,\n",
    ")\n",
    "plot.add_layout(LinearAxis(**axis_properties), 'left')\n",
    "plot.add_layout(DatetimeAxis(**axis_properties), 'below')\n",
    "line_properties = dict(\n",
    "    line_width=2,\n",
    "    x='timestamp', \n",
    "    y='timespent', \n",
    ")\n",
    "plot.add_glyph(p, Line(line_color=Spectral3[0], **line_properties))\n",
    "plot.add_glyph(u, Line(line_color=Spectral3[1], **line_properties))\n",
    "plot.add_glyph(h, Line(line_color=Spectral3[2], **line_properties))\n",
    "\n",
    "doc.add(plot)\n",
    "save(doc)\n",
    "view(filename)"
   ]
  },
  {
   "cell_type": "markdown",
   "metadata": {
    "collapsed": true
   },
   "source": [
    "### Do it with a chart function"
   ]
  },
  {
   "cell_type": "code",
   "execution_count": 5,
   "metadata": {
    "collapsed": false
   },
   "outputs": [
    {
     "data": {
      "text/html": [
       "<div>\n",
       "<table border=\"1\" class=\"dataframe\">\n",
       "  <thead>\n",
       "    <tr style=\"text-align: right;\">\n",
       "      <th></th>\n",
       "      <th>ponies</th>\n",
       "      <th>unicorns</th>\n",
       "      <th>hard at it</th>\n",
       "    </tr>\n",
       "    <tr>\n",
       "      <th>timestamp</th>\n",
       "      <th></th>\n",
       "      <th></th>\n",
       "      <th></th>\n",
       "    </tr>\n",
       "  </thead>\n",
       "  <tbody>\n",
       "    <tr>\n",
       "      <th>2015-06-25 06:42:00</th>\n",
       "      <td>0.0</td>\n",
       "      <td>0</td>\n",
       "      <td>0.0</td>\n",
       "    </tr>\n",
       "    <tr>\n",
       "      <th>2015-06-25 07:42:00</th>\n",
       "      <td>0.5</td>\n",
       "      <td>1</td>\n",
       "      <td>0.0</td>\n",
       "    </tr>\n",
       "    <tr>\n",
       "      <th>2015-06-25 12:20:00</th>\n",
       "      <td>0.9</td>\n",
       "      <td>3</td>\n",
       "      <td>3.0</td>\n",
       "    </tr>\n",
       "    <tr>\n",
       "      <th>2015-06-25 18:22:00</th>\n",
       "      <td>1.0</td>\n",
       "      <td>3</td>\n",
       "      <td>3.2</td>\n",
       "    </tr>\n",
       "    <tr>\n",
       "      <th>2015-06-26 06:42:00</th>\n",
       "      <td>0.0</td>\n",
       "      <td>0</td>\n",
       "      <td>0.0</td>\n",
       "    </tr>\n",
       "  </tbody>\n",
       "</table>\n",
       "</div>"
      ],
      "text/plain": [
       "                     ponies  unicorns  hard at it\n",
       "timestamp                                        \n",
       "2015-06-25 06:42:00     0.0         0         0.0\n",
       "2015-06-25 07:42:00     0.5         1         0.0\n",
       "2015-06-25 12:20:00     0.9         3         3.0\n",
       "2015-06-25 18:22:00     1.0         3         3.2\n",
       "2015-06-26 06:42:00     0.0         0         0.0"
      ]
     },
     "execution_count": 5,
     "metadata": {},
     "output_type": "execute_result"
    }
   ],
   "source": [
    "p_time = ponies_df.timespent\n",
    "p_time = p_time.dropna()\n",
    "p_time.name = 'ponies'\n",
    "u_time = unicorns_df.timespent\n",
    "u_time = u_time.dropna()\n",
    "u_time.name = 'unicorns'\n",
    "h_time = hard_df.timespent\n",
    "h_time = h_time.dropna()\n",
    "h_time.name = 'hard at it'\n",
    "chart_df = pd.DataFrame([p_time, u_time, h_time])\n",
    "chart_df = chart_df.transpose()\n",
    "chart_df.head()"
   ]
  },
  {
   "cell_type": "code",
   "execution_count": 6,
   "metadata": {
    "collapsed": false
   },
   "outputs": [],
   "source": [
    "chart = LineChart(chart_df, palette=Spectral3)\n",
    "chart.background_fill = 'black'\n",
    "doc.add(chart)\n",
    "save(doc)\n",
    "view(filename)"
   ]
  },
  {
   "cell_type": "markdown",
   "metadata": {},
   "source": [
    "### Interpolation"
   ]
  },
  {
   "cell_type": "code",
   "execution_count": 7,
   "metadata": {
    "collapsed": false
   },
   "outputs": [
    {
     "data": {
      "text/html": [
       "<div>\n",
       "<table border=\"1\" class=\"dataframe\">\n",
       "  <thead>\n",
       "    <tr style=\"text-align: right;\">\n",
       "      <th></th>\n",
       "      <th>timespent</th>\n",
       "    </tr>\n",
       "    <tr>\n",
       "      <th>timestamp</th>\n",
       "      <th></th>\n",
       "    </tr>\n",
       "  </thead>\n",
       "  <tbody>\n",
       "    <tr>\n",
       "      <th>2015-06-25 06:42:00</th>\n",
       "      <td>0.0</td>\n",
       "    </tr>\n",
       "    <tr>\n",
       "      <th>2015-06-25 07:42:00</th>\n",
       "      <td>0.5</td>\n",
       "    </tr>\n",
       "    <tr>\n",
       "      <th>2015-06-25 12:20:00</th>\n",
       "      <td>0.9</td>\n",
       "    </tr>\n",
       "    <tr>\n",
       "      <th>2015-06-25 18:22:00</th>\n",
       "      <td>1.0</td>\n",
       "    </tr>\n",
       "  </tbody>\n",
       "</table>\n",
       "</div>"
      ],
      "text/plain": [
       "                     timespent\n",
       "timestamp                     \n",
       "2015-06-25 06:42:00        0.0\n",
       "2015-06-25 07:42:00        0.5\n",
       "2015-06-25 12:20:00        0.9\n",
       "2015-06-25 18:22:00        1.0"
      ]
     },
     "execution_count": 7,
     "metadata": {},
     "output_type": "execute_result"
    }
   ],
   "source": [
    "ponies_only_data = \"\"\"\n",
    "timestamp, activity, timespent\n",
    "2015-06-25 06:42, ponies, 0\n",
    "2015-06-25 07:42, ponies, 0.5\n",
    "2015-06-25 12:20, ponies, 0.9\n",
    "2015-06-25 18:22, ponies, 1\n",
    "\"\"\"\n",
    "po_df = pd.read_csv(StringIO(ponies_only_data), parse_dates=True, skipinitialspace=True, index_col='timestamp')\n",
    "po_df.drop('activity', 1, inplace=True)\n",
    "po_df.head()"
   ]
  },
  {
   "cell_type": "code",
   "execution_count": 7,
   "metadata": {
    "collapsed": false
   },
   "outputs": [],
   "source": [
    "smoother = ponies_df.dropna().asfreq('10min').interpolate('pchip')\n",
    "smoother_source = ColumnDataSource(smoother)\n",
    "sm = Plot(\n",
    "    x_range=DataRange1d(), \n",
    "    y_range=DataRange1d(), \n",
    "    background_fill='black', \n",
    "    border_fill='black',\n",
    "    toolbar_location=None,\n",
    "    outline_line_color=None,\n",
    "    plot_width=900,\n",
    "    plot_height=300\n",
    ")\n",
    "ticker = BasicTicker(min_interval=1)\n",
    "axis_properties = dict(\n",
    "    major_label_text_color='white',\n",
    "    ticker=ticker,\n",
    ")\n",
    "sm.add_layout(LinearAxis(**axis_properties), 'left')\n",
    "sm.add_layout(DatetimeAxis(**axis_properties), 'below')\n",
    "line_properties = dict(\n",
    "    line_width=2,\n",
    "    x='timestamp', \n",
    "    y='timespent', \n",
    ")\n",
    "sm.add_glyph(smoother_source, Line(line_color=Spectral3[0], **line_properties))\n",
    "doc.add(sm)\n",
    "save(doc)\n",
    "view(filename)"
   ]
  },
  {
   "cell_type": "code",
   "execution_count": null,
   "metadata": {
    "collapsed": true
   },
   "outputs": [],
   "source": []
  }
 ],
 "metadata": {
  "kernelspec": {
   "display_name": "Python 3",
   "language": "python",
   "name": "python3"
  },
  "language_info": {
   "codemirror_mode": {
    "name": "ipython",
    "version": 3
   },
   "file_extension": ".py",
   "mimetype": "text/x-python",
   "name": "python",
   "nbconvert_exporter": "python",
   "pygments_lexer": "ipython3",
   "version": "3.4.3"
  }
 },
 "nbformat": 4,
 "nbformat_minor": 0
}
