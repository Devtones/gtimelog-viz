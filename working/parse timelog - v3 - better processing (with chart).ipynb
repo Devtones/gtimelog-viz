{
 "cells": [
  {
   "cell_type": "code",
   "execution_count": null,
   "metadata": {
    "collapsed": false
   },
   "outputs": [],
   "source": [
    "from bokeh.io import show, output_notebook\n",
    "output_notebook()"
   ]
  },
  {
   "cell_type": "markdown",
   "metadata": {},
   "source": [
    "## Process timelog"
   ]
  },
  {
   "cell_type": "code",
   "execution_count": null,
   "metadata": {
    "collapsed": true
   },
   "outputs": [],
   "source": [
    "from app.utils import timelog_path"
   ]
  },
  {
   "cell_type": "code",
   "execution_count": null,
   "metadata": {
    "collapsed": false
   },
   "outputs": [],
   "source": [
    "import pandas as pd\n",
    "import numpy as np\n",
    "import datetime\n",
    "\n",
    "raw = pd.read_table(timelog_path, quotechar=' ', sep=': ', names=['timestamp', 'activity'], engine='python',)\n",
    "\n",
    "# Set the column types\n",
    "\n",
    "raw.timestamp = pd.to_datetime(raw.timestamp)\n",
    "raw = raw.drop_duplicates()\n",
    "\n",
    "### Build the times\n",
    "raw['formatted_time'] = raw.timestamp.apply(lambda x: x.strftime(\"%I %p\"))  # Used for hover tools\n",
    "raw['end'] = raw.timestamp\n",
    "raw['start'] = raw['end'].shift(1)\n",
    "\n",
    "raw['start'] = np.where(\n",
    "    raw['activity'] == 'start',  # If the activity is start\n",
    "    raw['timestamp'],  # Set the start to timestamp\n",
    "    raw['start'],  # Else leave it as start\n",
    ")\n",
    "\n",
    "raw['delta'] = raw.end - raw.start\n",
    "# Remove the non-work activities which all have ***\n",
    "raw = raw[~raw.activity.str.contains('\\*\\*\\*')]\n",
    "# Boil down the categories to the main work categories\n",
    "raw.activity = raw.activity.str.split(' ').str[0]\n",
    "\n",
    "raw.head()"
   ]
  },
  {
   "cell_type": "code",
   "execution_count": null,
   "metadata": {
    "collapsed": false
   },
   "outputs": [],
   "source": [
    "# Build a dictionary of frames - one for each category\n",
    "\n",
    "activities = list(raw.activity.unique())\n",
    "activities.remove('start')\n",
    "start_df = raw[raw.activity == 'start']\n",
    "nan_df = start_df.copy()\n",
    "nan_df['delta'] = np.NaN\n",
    "nan_df['activity'] = '_'\n",
    "\n",
    "dfs = {}\n",
    "\n",
    "for activity in activities:\n",
    "    activity_df = raw[raw.activity == activity]\n",
    "    \n",
    "    # Add in the start rows with 0 deltas and do cumsum\n",
    "    activity_df = activity_df.append(start_df)\n",
    "    activity_df.sort('timestamp', inplace=True)\n",
    "    activity_df['cumsum'] = np.cumsum(activity_df.groupby(activity_df.timestamp.dt.date)['delta'])\n",
    "    activity_df['cumsum_hrs'] = activity_df['cumsum'].dt.seconds / (60 * 60)\n",
    "    \n",
    "    # Add in the nan rows so bokeh can plobt\n",
    "    activity_df = activity_df.append(nan_df)\n",
    "    activity_df.sort(['timestamp', 'activity'], inplace=True)\n",
    "    \n",
    "    dfs[activity] = activity_df\n",
    "\n",
    "    \n",
    "terra = dfs['terra']\n",
    "terra.head()"
   ]
  },
  {
   "cell_type": "markdown",
   "metadata": {},
   "source": [
    "# Plot it"
   ]
  },
  {
   "cell_type": "code",
   "execution_count": null,
   "metadata": {
    "collapsed": true
   },
   "outputs": [],
   "source": [
    "from bokeh.models import (\n",
    "    Plot, Line, ColumnDataSource,  DataRange1d, \n",
    "    LinearAxis, BasicTicker,\n",
    "    DatetimeAxis, DatetimeTicker, DatetimeTickFormatter,\n",
    "    BoxZoomTool, PanTool, ResetTool, WheelZoomTool, \n",
    "    HoverTool, Grid\n",
    ")\n",
    "from bokeh import palettes"
   ]
  },
  {
   "cell_type": "code",
   "execution_count": null,
   "metadata": {
    "collapsed": false
   },
   "outputs": [],
   "source": [
    "plot = Plot(\n",
    "    x_range=DataRange1d(), \n",
    "    y_range=DataRange1d(), \n",
    "    background_fill='black', \n",
    "    border_fill='black',\n",
    "    outline_line_color=None,\n",
    "    plot_width=900,\n",
    "    plot_height=300\n",
    ")\n",
    "\n",
    "yticker = BasicTicker(min_interval=4)\n",
    "close_ticker = DatetimeTicker(desired_num_ticks=8)\n",
    "year_ticker = DatetimeTicker(desired_num_ticks=4)\n",
    "year_ticks = DatetimeTickFormatter(\n",
    "    formats={\n",
    "        'years': [\"%Y\"],\n",
    "        'months': [\"%Y\"],\n",
    "        'days': [\"%Y\"],\n",
    "        'hours': [\"%Y\"]\n",
    "    }\n",
    ")\n",
    "close_ticks = DatetimeTickFormatter(\n",
    "    formats={\n",
    "        'years': [\"%b\"],\n",
    "        'months': [\"%b\"],\n",
    "        'days': [\"%a %d %b\"],\n",
    "        'hours': [\"%I%p %d %b\"]\n",
    "    }\n",
    ")\n",
    "\n",
    "axis_properties = dict(\n",
    "    major_label_text_color='white',\n",
    ")\n",
    "plot.add_layout(LinearAxis(ticker=yticker, **axis_properties), 'left')\n",
    "plot.add_layout(DatetimeAxis(formatter=close_ticks, ticker=close_ticker, **axis_properties), 'below')\n",
    "plot.add_layout(DatetimeAxis(formatter=year_ticks, ticker=year_ticker, **axis_properties), 'below')\n",
    "plot.add_layout(Grid(dimension=1, ticker=yticker, grid_line_alpha=0.3))\n",
    "\n",
    "\n",
    "tool_opts = dict(dimensions=['width'])\n",
    "plot.add_tools(\n",
    "    BoxZoomTool(**tool_opts), \n",
    "    WheelZoomTool(**tool_opts), \n",
    "    PanTool(**tool_opts), \n",
    "    ResetTool(),\n",
    "    \n",
    ")\n",
    "\n",
    "palette = getattr(palettes, 'Spectral%s' % len(activities))\n",
    "\n",
    "for i, activity in enumerate(activities):\n",
    "    frame = dfs[activity][['cumsum_hrs', 'timestamp', 'formatted_time']]\n",
    "    source = ColumnDataSource(frame)\n",
    "    line = Line(\n",
    "        line_color=palette[i], \n",
    "        line_join='round', line_cap='round', line_width=5, line_alpha=0.75,\n",
    "        x='timestamp', y='cumsum_hrs'\n",
    "    )\n",
    "    plot.add_glyph(source, line)\n",
    "\n",
    "show(plot)"
   ]
  },
  {
   "cell_type": "code",
   "execution_count": null,
   "metadata": {
    "collapsed": true
   },
   "outputs": [],
   "source": []
  }
 ],
 "metadata": {
  "kernelspec": {
   "display_name": "Python 3",
   "language": "python",
   "name": "python3"
  },
  "language_info": {
   "codemirror_mode": {
    "name": "ipython",
    "version": 3
   },
   "file_extension": ".py",
   "mimetype": "text/x-python",
   "name": "python",
   "nbconvert_exporter": "python",
   "pygments_lexer": "ipython3",
   "version": "3.4.3"
  }
 },
 "nbformat": 4,
 "nbformat_minor": 0
}
