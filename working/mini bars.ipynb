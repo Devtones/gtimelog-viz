{
 "cells": [
  {
   "cell_type": "code",
   "execution_count": null,
   "metadata": {
    "collapsed": false
   },
   "outputs": [],
   "source": [
    "import numpy as np\n",
    "import pandas as pd\n",
    "from bokeh.io import output_notebook, show\n",
    "output_notebook()"
   ]
  },
  {
   "cell_type": "code",
   "execution_count": null,
   "metadata": {
    "collapsed": false
   },
   "outputs": [],
   "source": [
    "from app.utils.process_gtimelog import get_work_df\n",
    "raw = get_work_df()\n",
    "raw.head()"
   ]
  },
  {
   "cell_type": "code",
   "execution_count": null,
   "metadata": {
    "collapsed": false
   },
   "outputs": [],
   "source": [
    "import datetime\n",
    "today = datetime.date(2015, 7, 13)\n",
    "just_today = raw[(raw.timestamp.dt.date == today)]\n",
    "just_today = just_today[just_today.activity != 'start']\n",
    "\n",
    "# Clean & add some useful columns\n",
    "just_today.activity = just_today.activity.str.capitalize()\n",
    "just_today['human'] = just_today.delta.dt.seconds / (60 * 60)\n",
    "just_today.human = just_today.human.round(2)\n",
    "just_today['parent_activity'] = just_today.activity.str.split(' - ').str[0]\n",
    "just_today['sub_activity'] = just_today.activity.str.split(' - ').str[1]\n",
    "just_today.sub_activity = np.where(just_today.activity == just_today.parent_activity, 'general', just_today.sub_activity)\n",
    "just_today.sub_activity = just_today.sub_activity.str.capitalize()\n",
    "\n",
    "just_today.tail()"
   ]
  },
  {
   "cell_type": "code",
   "execution_count": null,
   "metadata": {
    "collapsed": false
   },
   "outputs": [],
   "source": [
    "# Categorize (probably not necessary here)\n",
    "just_today.parent_activity = just_today.parent_activity.astype('category')\n",
    "just_today.parent_activity.cat.categories"
   ]
  },
  {
   "cell_type": "code",
   "execution_count": null,
   "metadata": {
    "collapsed": false
   },
   "outputs": [],
   "source": [
    "from bokeh.charts import Bar\n",
    "from bokeh.io import hplot, vplot\n",
    "from bokeh.models import Range1d, DataTable, ColumnDataSource, TableColumn, Paragraph\n",
    "from bokeh.palettes import Spectral4\n",
    "\n",
    "def make_bar(category, data):\n",
    "    bar = Bar(\n",
    "        data, \n",
    "        width=200, height=200, \n",
    "        palette=[Spectral4[i], '#dddddd'], \n",
    "        stacked=True)\n",
    "    bar.toolbar_location = None\n",
    "    bar.outline_line_color = None\n",
    "    bar.y_range = Range1d(0, 8)\n",
    "    bar.min_border = 5\n",
    "    bar.min_border_top = 10\n",
    "    return bar\n",
    "\n",
    "def make_table(category, data):\n",
    "    totalled = pd.concat(\n",
    "        [\n",
    "            data, \n",
    "            pd.DataFrame({'human': data.human.sum()}, index=['%s - Total' % category])\n",
    "        ]\n",
    "    )\n",
    "    source = ColumnDataSource(totalled)\n",
    "    table = DataTable(\n",
    "        source=source,\n",
    "        columns=[\n",
    "            TableColumn(field=\"sub_activity\", title=category),\n",
    "            TableColumn(field=\"human\", title=\"Total\")\n",
    "        ],\n",
    "        width=300\n",
    "    )\n",
    "    return table\n",
    "\n",
    "for i, category in enumerate(just_today.parent_activity.cat.categories):\n",
    "    parent_df = just_today[just_today.parent_activity == category]\n",
    "    summed = parent_df.groupby('sub_activity').sum().sort('human', ascending=False)\n",
    "    summed['from total'] = summed.human.sum() - summed.human\n",
    "    bar = make_bar(category, summed)\n",
    "    table = make_table(category, summed)\n",
    "    show(vplot(hplot(bar, table)))"
   ]
  },
  {
   "cell_type": "code",
   "execution_count": null,
   "metadata": {
    "collapsed": false
   },
   "outputs": [],
   "source": []
  },
  {
   "cell_type": "code",
   "execution_count": null,
   "metadata": {
    "collapsed": true
   },
   "outputs": [],
   "source": []
  }
 ],
 "metadata": {
  "kernelspec": {
   "display_name": "Python 3",
   "language": "python",
   "name": "python3"
  },
  "language_info": {
   "codemirror_mode": {
    "name": "ipython",
    "version": 3
   },
   "file_extension": ".py",
   "mimetype": "text/x-python",
   "name": "python",
   "nbconvert_exporter": "python",
   "pygments_lexer": "ipython3",
   "version": "3.4.3"
  }
 },
 "nbformat": 4,
 "nbformat_minor": 0
}
