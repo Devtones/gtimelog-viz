{
 "cells": [
  {
   "cell_type": "code",
   "execution_count": null,
   "metadata": {
    "collapsed": false
   },
   "outputs": [],
   "source": [
    "import numpy as np\n",
    "import pandas as pd\n",
    "from bokeh.io import output_notebook, show\n",
    "output_notebook()"
   ]
  },
  {
   "cell_type": "code",
   "execution_count": null,
   "metadata": {
    "collapsed": false
   },
   "outputs": [],
   "source": [
    "from app.utils.process_gtimelog import get_work_df, add_processed_columns\n",
    "processed = add_processed_columns(get_work_df())\n",
    "processed.tail()"
   ]
  },
  {
   "cell_type": "code",
   "execution_count": null,
   "metadata": {
    "collapsed": false
   },
   "outputs": [],
   "source": [
    "import datetime\n",
    "today = datetime.datetime.today()\n",
    "today"
   ]
  },
  {
   "cell_type": "code",
   "execution_count": null,
   "metadata": {
    "collapsed": false
   },
   "outputs": [],
   "source": [
    "one_week_ago = today - datetime.timedelta(weeks=1)\n",
    "two_week_ago = today - datetime.timedelta(weeks=2)\n",
    "three_week_ago = today - datetime.timedelta(weeks=3)\n",
    "\n",
    "start = two_week_ago + datetime.timedelta(days=1)\n",
    "end = one_week_ago\n",
    "\n",
    "one_week = processed[(processed.timestamp.dt.date >= start.date()) & (processed.timestamp.dt.date <= end.date())]\n",
    "one_week = one_week[one_week.activity != 'start']\n",
    "one_week['formatted_activity'] = one_week.parent_activity + ' (' + one_week.sub_activity + ')'\n",
    "one_week['activity_bottom'] = one_week.formatted_activity + ':0.25'\n",
    "one_week['activity_top'] = one_week.formatted_activity + ':0.75'\n",
    "\n",
    "\n",
    "one_week.tail()"
   ]
  },
  {
   "cell_type": "code",
   "execution_count": null,
   "metadata": {
    "collapsed": false
   },
   "outputs": [],
   "source": [
    "grouped = one_week.groupby([one_week.timestamp.dt.date, one_week.parent_activity, one_week.formatted_activity]).sum().unstack(0).fillna(0)\n",
    "grouped"
   ]
  },
  {
   "cell_type": "code",
   "execution_count": null,
   "metadata": {
    "collapsed": false
   },
   "outputs": [],
   "source": [
    "grouped = one_week.groupby([one_week.timestamp.dt.date, one_week.parent_activity, one_week.formatted_activity]).sum().fillna(0)\n",
    "\n",
    "#levels = grouped.columns.levels\n",
    "#labels = grouped.columns.labels\n",
    "#grouped.columns = levels[1][labels[1]]\n",
    "#grouped.index.names=['']\n",
    "grouped"
   ]
  },
  {
   "cell_type": "code",
   "execution_count": null,
   "metadata": {
    "collapsed": false
   },
   "outputs": [],
   "source": [
    "def make_df(group_by):\n",
    "    df = one_week.groupby([one_week.timestamp.dt.date, group_by]).sum().unstack(1)\n",
    "    df.columns = df.columns.levels[1][df.columns.labels[1]]\n",
    "    df.columns.name = None\n",
    "    df.index = pd.DatetimeIndex(df.index)\n",
    "    all_date_index = pd.DatetimeIndex(start=start.date(), end=end.date(), freq='d')\n",
    "    df = df.join(pd.DataFrame(index=all_date_index), how='outer').fillna(0)\n",
    "    df.index = df.index.format(formatter=lambda x: x.strftime(\"%a %b %d\"))\n",
    "    df = df.T\n",
    "    df['Total'] = df.sum(axis=1)\n",
    "    return df\n",
    "parent = make_df(one_week.parent_activity)\n",
    "parent"
   ]
  },
  {
   "cell_type": "code",
   "execution_count": null,
   "metadata": {
    "collapsed": false
   },
   "outputs": [],
   "source": [
    "individual = make_df(one_week.formatted_activity)\n",
    "individual = individual.reset_index()\n",
    "\n",
    "def get_proportion_of_parent(r):\n",
    "    activity_total = r['Total']\n",
    "    activity = r['index']\n",
    "    parent_total = parent['Total'][activity.split(' ')[0]]\n",
    "    return '%i%%' % ((( activity_total / parent_total ) * 100) )\n",
    "    \n",
    "individual['%'] = individual.apply(get_proportion_of_parent, axis=1)\n",
    "individual = individual.set_index('index')\n",
    "individual.index.name = None\n",
    "individual"
   ]
  },
  {
   "cell_type": "code",
   "execution_count": null,
   "metadata": {
    "collapsed": false
   },
   "outputs": [],
   "source": [
    "list(individual.columns)"
   ]
  },
  {
   "cell_type": "code",
   "execution_count": null,
   "metadata": {
    "collapsed": false
   },
   "outputs": [],
   "source": [
    "pd.concat([parent, individual])[list(individual.columns)].fillna('')"
   ]
  },
  {
   "cell_type": "code",
   "execution_count": null,
   "metadata": {
    "collapsed": false
   },
   "outputs": [],
   "source": [
    "from IPython.display import display, HTML\n",
    "display(HTML(individual.to_html(header=False)))"
   ]
  },
  {
   "cell_type": "code",
   "execution_count": null,
   "metadata": {
    "collapsed": true
   },
   "outputs": [],
   "source": []
  }
 ],
 "metadata": {
  "kernelspec": {
   "display_name": "Python 3",
   "language": "python",
   "name": "python3"
  },
  "language_info": {
   "codemirror_mode": {
    "name": "ipython",
    "version": 3
   },
   "file_extension": ".py",
   "mimetype": "text/x-python",
   "name": "python",
   "nbconvert_exporter": "python",
   "pygments_lexer": "ipython3",
   "version": "3.4.3"
  }
 },
 "nbformat": 4,
 "nbformat_minor": 0
}
