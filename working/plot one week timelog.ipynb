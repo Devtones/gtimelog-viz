{
 "cells": [
  {
   "cell_type": "code",
   "execution_count": null,
   "metadata": {
    "collapsed": false
   },
   "outputs": [],
   "source": [
    "import numpy as np\n",
    "import pandas as pd\n",
    "from bokeh.io import output_notebook, show\n",
    "output_notebook()"
   ]
  },
  {
   "cell_type": "code",
   "execution_count": null,
   "metadata": {
    "collapsed": false
   },
   "outputs": [],
   "source": [
    "from app.utils.process_gtimelog import get_work_df, add_processed_columns\n",
    "processed = add_processed_columns(get_work_df())\n",
    "processed.head()"
   ]
  },
  {
   "cell_type": "code",
   "execution_count": null,
   "metadata": {
    "collapsed": false
   },
   "outputs": [],
   "source": [
    "import datetime\n",
    "today = datetime.date.today()\n",
    "one_week_ago = today - datetime.timedelta(weeks=1)\n",
    "two_week_ago = today - datetime.timedelta(weeks=2)\n",
    "three_week_ago = today - datetime.timedelta(weeks=3)\n",
    "\n",
    "start = one_week_ago\n",
    "end = today\n",
    "\n",
    "one_week = processed[(processed.timestamp >= start) & (processed.timestamp <= end)]\n",
    "one_week = one_week[one_week.activity != 'start']\n",
    "one_week['formatted_activity'] = one_week.parent_activity + ' (' + one_week.sub_activity + ')'\n",
    "one_week['activity_bottom'] = one_week.formatted_activity + ':0.25'\n",
    "one_week['activity_top'] = one_week.formatted_activity + ':0.75'\n",
    "\n",
    "\n",
    "one_week.head()"
   ]
  },
  {
   "cell_type": "code",
   "execution_count": null,
   "metadata": {
    "collapsed": false
   },
   "outputs": [],
   "source": [
    "from bokeh.plotting import figure\n",
    "from bokeh.models import ColumnDataSource, Range1d, FactorRange, DataRange1d, HoverTool, PanTool, WheelZoomTool\n",
    "source = ColumnDataSource(one_week[['start', 'end', 'activity_top', 'activity_bottom', 'human']])\n",
    "\n",
    "activities = list(one_week.formatted_activity.unique())\n",
    "activities = sorted(activities)\n",
    "n = len(activities)\n",
    "\n",
    "p = figure(\n",
    "    x_range=Range1d(start=start, end=end),\n",
    "    y_range=FactorRange(factors=activities),\n",
    "    tools='reset', width=600, height=100*n\n",
    ")\n",
    "p.quad(left='start', right='end', top='activity_top', bottom='activity_bottom', source=source)\n",
    "p.add_tools(HoverTool(tooltips='@human hrs'))\n",
    "p.add_tools(PanTool(dimensions=['width']))\n",
    "p.add_tools(WheelZoomTool(dimensions=['width']))\n",
    "show(p)"
   ]
  },
  {
   "cell_type": "code",
   "execution_count": null,
   "metadata": {
    "collapsed": true
   },
   "outputs": [],
   "source": []
  },
  {
   "cell_type": "code",
   "execution_count": null,
   "metadata": {
    "collapsed": true
   },
   "outputs": [],
   "source": []
  }
 ],
 "metadata": {
  "kernelspec": {
   "display_name": "Python 3",
   "language": "python",
   "name": "python3"
  },
  "language_info": {
   "codemirror_mode": {
    "name": "ipython",
    "version": 3
   },
   "file_extension": ".py",
   "mimetype": "text/x-python",
   "name": "python",
   "nbconvert_exporter": "python",
   "pygments_lexer": "ipython3",
   "version": "3.4.3"
  }
 },
 "nbformat": 4,
 "nbformat_minor": 0
}
